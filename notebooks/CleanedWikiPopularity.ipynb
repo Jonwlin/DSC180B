{
 "cells": [
  {
   "cell_type": "code",
   "execution_count": 1,
   "metadata": {},
   "outputs": [],
   "source": [
    "import sys\n",
    "import os\n",
    "\n",
    "sys.path.insert(0, '../src') # add library code to path"
   ]
  },
  {
   "cell_type": "code",
   "execution_count": 2,
   "metadata": {},
   "outputs": [
    {
     "name": "stdout",
     "output_type": "stream",
     "text": [
      "Downloading enwiki file: (1/1)\n",
      "https://dumps.wikimedia.org/enwiki/20200101/enwiki-20200101-stub-meta-history1.xml.gz\n"
     ]
    }
   ],
   "source": [
    "from wikiparser import download_metadata_zips\n",
    "\n",
    "zip_outdir = \"../data/raw/zips\"\n",
    "\n",
    "download_metadata_zips(1, zip_outdir , False)"
   ]
  },
  {
   "cell_type": "code",
   "execution_count": 3,
   "metadata": {},
   "outputs": [
    {
     "data": {
      "text/plain": [
       "['metadata-20200101-1.xml.gz', 'enwiki-20200101-0.7z', '.ipynb_checkpoints']"
      ]
     },
     "execution_count": 3,
     "metadata": {},
     "output_type": "execute_result"
    }
   ],
   "source": [
    "zips = os.listdir(zip_outdir)\n",
    "zips"
   ]
  },
  {
   "cell_type": "code",
   "execution_count": 4,
   "metadata": {},
   "outputs": [
    {
     "name": "stdout",
     "output_type": "stream",
     "text": [
      "Extracted file already exists: ../data/raw/extracted/metadata-20200101-1.xml\n"
     ]
    }
   ],
   "source": [
    "from wikiparser import gunzip_shutil\n",
    "\n",
    "extract_outdir = \"../data/raw/extracted\"\n",
    "\n",
    "for gzip_file in os.listdir(zip_outdir ):\n",
    "    if gzip_file[-2:] == \"gz\":\n",
    "        gunzip_shutil(zip_outdir + \"/\" + gzip_file, extract_outdir)\n",
    "    "
   ]
  },
  {
   "cell_type": "code",
   "execution_count": null,
   "metadata": {},
   "outputs": [
    {
     "name": "stdout",
     "output_type": "stream",
     "text": [
      "Writing AccessibleComputing 13 revisions to popularity_dump.txt\n"
     ]
    }
   ],
   "source": [
    "from wikiparser import parse_metadata_to_lightdump\n",
    "\n",
    "#parse enwiki to lightdump\n",
    "file_to_parse = \"../data/raw/extracted/metadata-20200101-1.xml\"\n",
    "lightdump_filename = \"popularity_dump.txt\"\n",
    "temp_dir = \"../data/temp\"\n",
    "articles = []\n",
    "\n",
    "parse_metadata_to_lightdump(file_to_parse , lightdump_filename, temp_dir, articles)"
   ]
  }
 ],
 "metadata": {
  "kernelspec": {
   "display_name": "Python 3",
   "language": "python",
   "name": "python3"
  },
  "language_info": {
   "codemirror_mode": {
    "name": "ipython",
    "version": 3
   },
   "file_extension": ".py",
   "mimetype": "text/x-python",
   "name": "python",
   "nbconvert_exporter": "python",
   "pygments_lexer": "ipython3",
   "version": "3.7.3"
  }
 },
 "nbformat": 4,
 "nbformat_minor": 2
}
